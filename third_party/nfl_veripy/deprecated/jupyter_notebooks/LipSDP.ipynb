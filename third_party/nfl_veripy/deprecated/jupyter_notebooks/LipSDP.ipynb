{
 "cells": [
  {
   "cell_type": "code",
   "execution_count": 9,
   "metadata": {},
   "outputs": [],
   "source": [
    "import numpy as np\n",
    "import numpy.matlib\n",
    "import matplotlib.pyplot as plt\n",
    "import matplotlib\n",
    "from scipy.linalg import block_diag\n",
    "import cvxpy as cp\n",
    "import torch.nn as nn\n",
    "from scipy.linalg import block_diag"
   ]
  },
  {
   "cell_type": "code",
   "execution_count": 10,
   "metadata": {},
   "outputs": [],
   "source": [
    "def lipSDP(weights,alpha=0,beta=1):\n",
    "    \n",
    "    num_layers = len(weights)-1\n",
    "    dim_in = weights[0].shape[1]\n",
    "    dim_out = weights[-1].shape[0]\n",
    "    dim_last_hidden = weights[-1].shape[1]\n",
    "    hidden_dims = [weights[i].shape[0] for i in range(0,num_layers)]\n",
    "    dims = [dim_in] + hidden_dims + [dim_out]\n",
    "    num_neurons = sum(hidden_dims)\n",
    "\n",
    "    # decision vars\n",
    "    Lambda = cp.Variable((num_neurons,1),nonneg=True)\n",
    "    T = cp.diag(Lambda)\n",
    "    rho = cp.Variable((1,1),nonneg=True)\n",
    "\n",
    "    A = weights[0]\n",
    "    C = np.bmat([np.zeros((weights[-1].shape[0],dim_in+num_neurons-dim_last_hidden)),weights[-1]])\n",
    "    D = np.bmat([np.eye(dim_in),np.zeros((dim_in,num_neurons))])\n",
    "\n",
    "    for i in range(1,num_layers):\n",
    "        A = block_diag(A,weights[i])\n",
    "\n",
    "    A = np.bmat([A,np.zeros((A.shape[0],weights[num_layers].shape[1]))])\n",
    "    B = np.eye(num_neurons)\n",
    "    B = np.bmat([np.zeros((num_neurons,weights[0].shape[1])),B])\n",
    "    A_on_B = np.bmat([[A],[B]])\n",
    "\n",
    "    cons = [A_on_B.T@cp.bmat([[-2*alpha*beta*T,(alpha+beta)*T],[(alpha+beta)*T,-2*T]])@A_on_B+C.T@C-rho*D.T@D<<0]\n",
    "\n",
    "    prob = cp.Problem(cp.Minimize(rho), cons)\n",
    "\n",
    "    prob.solve(solver=cp.MOSEK)\n",
    "    \n",
    "    return np.sqrt(rho.value)[0][0]"
   ]
  },
  {
   "cell_type": "code",
   "execution_count": 11,
   "metadata": {},
   "outputs": [],
   "source": [
    "net = nn.Sequential(\n",
    "          nn.Linear(2,100),\n",
    "          nn.ReLU(),\n",
    "          nn.Linear(100,50),\n",
    "          nn.ReLU(),\n",
    "          nn.Linear(50,2))"
   ]
  },
  {
   "cell_type": "code",
   "execution_count": 12,
   "metadata": {},
   "outputs": [],
   "source": [
    "num_layers = int((len(net)-1)/2)\n",
    "dim_in = net[0].weight.shape[1]\n",
    "dim_out = net[-1].weight.shape[0]\n",
    "hidden_dims = [net[2*i].weight.shape[0] for i in range(0,num_layers)]\n",
    "\n",
    "# network dimensions\n",
    "dims = [dim_in] + hidden_dims + [dim_out]\n",
    "\n",
    "# get weights\n",
    "weights = np.zeros((num_layers+1,), dtype=np.object)\n",
    "weights[:] = [net[2*i].weight.detach().numpy().astype(np.float64) for i in range(0,num_layers+1)]"
   ]
  },
  {
   "cell_type": "code",
   "execution_count": 13,
   "metadata": {},
   "outputs": [
    {
     "name": "stdout",
     "output_type": "stream",
     "text": [
      "0.8853361097298602\n"
     ]
    }
   ],
   "source": [
    "LipConstantDeepSDP = lipSDP(weights)\n",
    "print(LipConstantDeepSDP)"
   ]
  },
  {
   "cell_type": "code",
   "execution_count": 14,
   "metadata": {},
   "outputs": [
    {
     "name": "stdout",
     "output_type": "stream",
     "text": [
      "2.4099616695084234\n"
     ]
    }
   ],
   "source": [
    "NaiveUpperBound = 1\n",
    "for i in range(0,len(weights)):\n",
    "    NaiveUpperBound = NaiveUpperBound*np.linalg.norm(weights[i],ord=2)\n",
    "    \n",
    "print(NaiveUpperBound)"
   ]
  },
  {
   "cell_type": "code",
   "execution_count": 15,
   "metadata": {},
   "outputs": [
    {
     "data": {
      "text/plain": [
       "2.722086722797026"
      ]
     },
     "execution_count": 15,
     "metadata": {},
     "output_type": "execute_result"
    }
   ],
   "source": [
    "NaiveUpperBound/LipConstantDeepSDP"
   ]
  },
  {
   "cell_type": "code",
   "execution_count": null,
   "metadata": {},
   "outputs": [],
   "source": []
  }
 ],
 "metadata": {
  "kernelspec": {
   "display_name": "robustness_analysis_venv",
   "language": "python",
   "name": "robustness_analysis_venv"
  },
  "language_info": {
   "codemirror_mode": {
    "name": "ipython",
    "version": 3
   },
   "file_extension": ".py",
   "mimetype": "text/x-python",
   "name": "python",
   "nbconvert_exporter": "python",
   "pygments_lexer": "ipython3",
   "version": "3.6.9"
  }
 },
 "nbformat": 4,
 "nbformat_minor": 4
}
