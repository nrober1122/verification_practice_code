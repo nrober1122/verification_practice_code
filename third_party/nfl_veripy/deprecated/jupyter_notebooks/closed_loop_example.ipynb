{
    "cells": [
        {
            "cell_type": "markdown",
            "id": "457df582",
            "metadata": {},
            "source": [
                "# Example of analyzing a neural feedback loop"
            ]
        },
        {
            "cell_type": "markdown",
            "id": "bd9a6e2e",
            "metadata": {},
            "source": [
                "## Load libraries and set random seed"
            ]
        },
        {
            "cell_type": "code",
            "execution_count": 1,
            "id": "7ec1b587",
            "metadata": {},
            "outputs": [],
            "source": [
                "import numpy as np\n",
                "import nfl_veripy.dynamics as dynamics\n",
                "import nfl_veripy.analyzers as analyzers\n",
                "import nfl_veripy.constraints as constraints\n",
                "from nfl_veripy.utils.nn import load_controller, load_controller_unity\n",
                "from nfl_veripy.utils.utils import range_to_polytope, get_polytope_A"
            ]
        },
        {
            "cell_type": "code",
            "execution_count": 2,
            "id": "5c5ca3eb",
            "metadata": {},
            "outputs": [],
            "source": [
                "np.random.seed(seed=0)"
            ]
        },
        {
            "cell_type": "markdown",
            "id": "ad8415d6",
            "metadata": {},
            "source": [
                "## Load NN control policy, $\\pi$"
            ]
        },
        {
            "cell_type": "code",
            "execution_count": 3,
            "id": "dba8a6c1",
            "metadata": {},
            "outputs": [
                {
                    "name": "stdout",
                    "output_type": "stream",
                    "text": [
                        "Sequential(\n",
                        "  (0): Linear(in_features=2, out_features=10, bias=True)\n",
                        "  (1): ReLU()\n",
                        "  (2): Linear(in_features=10, out_features=5, bias=True)\n",
                        "  (3): ReLU()\n",
                        "  (4): Linear(in_features=5, out_features=1, bias=True)\n",
                        ")\n"
                    ]
                }
            ],
            "source": [
                "controller = load_controller(name=\"double_integrator\")\n",
                "print(controller)"
            ]
        },
        {
            "cell_type": "markdown",
            "id": "affbd536",
            "metadata": {},
            "source": [
                "## Load dynamics model (double integrator), $\\mathbf{x}_{t+1} = f(\\mathbf{x}_t; \\pi)$"
            ]
        },
        {
            "cell_type": "code",
            "execution_count": 4,
            "id": "cb537da0",
            "metadata": {},
            "outputs": [
                {
                    "name": "stdout",
                    "output_type": "stream",
                    "text": [
                        "<nfl_veripy.dynamics.DoubleIntegrator.DoubleIntegrator object at 0x17e599f98>\n"
                    ]
                }
            ],
            "source": [
                "dyn = dynamics.DoubleIntegrator()\n",
                "print(dyn)"
            ]
        },
        {
            "cell_type": "markdown",
            "id": "ed51e252",
            "metadata": {},
            "source": [
                "## Define initial state set, $\\mathcal{X}_0$"
            ]
        },
        {
            "cell_type": "code",
            "execution_count": 5,
            "id": "e980277e",
            "metadata": {},
            "outputs": [
                {
                    "name": "stdout",
                    "output_type": "stream",
                    "text": [
                        "<nfl_veripy.constraints.ClosedLoopConstraints.LpConstraint object at 0x17e665940>\n"
                    ]
                }
            ],
            "source": [
                "# Note: this notebook uses $\\ell_infty$-ball sets\n",
                "init_state_range = np.array(\n",
                "    [  # (num_inputs, 2)\n",
                "        [2.5, 3.0],  # x0min, x0max\n",
                "        [-0.25, 0.25],  # x1min, x1max\n",
                "    ]\n",
                ")\n",
                "\n",
                "# Convert these into constraint objects\n",
                "input_constraint = constraints.LpConstraint(\n",
                "    range=init_state_range, p=np.inf\n",
                ")\n",
                "output_constraint = constraints.LpConstraint(p=np.inf)\n",
                "print(input_constraint)"
            ]
        },
        {
            "cell_type": "markdown",
            "id": "528c5a29",
            "metadata": {},
            "source": [
                "## Define partitioner hyperparameters"
            ]
        },
        {
            "cell_type": "code",
            "execution_count": 6,
            "id": "cf4c6c80",
            "metadata": {},
            "outputs": [],
            "source": [
                "partitioner_hyperparams = {\n",
                "    \"type\": \"GreedySimGuided\",\n",
                "    \"make_animation\": False,\n",
                "    \"show_animation\": False,\n",
                "}"
            ]
        },
        {
            "cell_type": "markdown",
            "id": "e4065083",
            "metadata": {},
            "source": [
                "## Define propagator hyperparameters"
            ]
        },
        {
            "cell_type": "code",
            "execution_count": 7,
            "id": "73bba468",
            "metadata": {},
            "outputs": [],
            "source": [
                "propagator_hyperparams = {\n",
                "    \"type\": \"CROWN\",\n",
                "    \"input_shape\": init_state_range.shape[:-1],\n",
                "}"
            ]
        },
        {
            "cell_type": "markdown",
            "id": "e4c2ea85",
            "metadata": {},
            "source": [
                "## Initialize analyzer, partitioner, propagator"
            ]
        },
        {
            "cell_type": "code",
            "execution_count": 8,
            "id": "dfad99c8",
            "metadata": {},
            "outputs": [
                {
                    "name": "stdout",
                    "output_type": "stream",
                    "text": [
                        "<nfl_veripy.analyzers.ClosedLoopAnalyzer.ClosedLoopAnalyzer object at 0x17e665e80>\n"
                    ]
                }
            ],
            "source": [
                "analyzer = analyzers.ClosedLoopAnalyzer(controller, dyn)\n",
                "analyzer.partitioner = partitioner_hyperparams\n",
                "analyzer.propagator = propagator_hyperparams\n",
                "print(analyzer)"
            ]
        },
        {
            "cell_type": "markdown",
            "id": "b03a3c98",
            "metadata": {},
            "source": [
                "## Compute the reachable sets"
            ]
        },
        {
            "cell_type": "code",
            "execution_count": 9,
            "id": "1330ed50",
            "metadata": {},
            "outputs": [
                {
                    "name": "stdout",
                    "output_type": "stream",
                    "text": [
                        "[[[ 1.90837383  2.75      ]\n",
                        "  [-1.125      -0.70422709]]\n",
                        "\n",
                        " [[ 1.01761031  1.8305043 ]\n",
                        "  [-1.10589671 -0.80364925]]\n",
                        "\n",
                        " [[ 0.36083901  0.94537741]\n",
                        "  [-0.76938218 -0.41734082]]\n",
                        "\n",
                        " [[ 0.01732248  0.42632043]\n",
                        "  [-0.41059628 -0.14207691]]\n",
                        "\n",
                        " [[-0.21241173  0.24513718]\n",
                        "  [-0.21547571 -0.0169901 ]]]\n"
                    ]
                }
            ],
            "source": [
                "t_max = 5\n",
                "output_constraint, analyzer_info = analyzer.get_reachable_set(\n",
                "    input_constraint, output_constraint, t_max=t_max\n",
                ")\n",
                "print(output_constraint.range)\n",
                "# analyzer_info contains more details"
            ]
        },
        {
            "cell_type": "markdown",
            "id": "93c13236",
            "metadata": {},
            "source": [
                "## Generate a visualization of the input/output mapping"
            ]
        },
        {
            "cell_type": "code",
            "execution_count": 10,
            "id": "3f80190f",
            "metadata": {},
            "outputs": [
                {
                    "data": {
                        "image/png": "[encoded data removed]",
                        "text/plain": [
                            "<Figure size 432x288 with 1 Axes>"
                        ]
                    },
                    "metadata": {
                        "needs_background": "light"
                    },
                    "output_type": "display_data"
                }
            ],
            "source": [
                "analyzer.visualize(\n",
                "    input_constraint,\n",
                "    output_constraint,\n",
                "    show_samples=True,\n",
                "    show=True,\n",
                "    labels=None,\n",
                "    aspect=\"auto\",\n",
                "    iteration=None,\n",
                "    inputs_to_highlight=[{\"dim\": [0], \"name\": \"$x_0$\"}, {\"dim\": [1], \"name\": \"$x_1$\"}],\n",
                "    **analyzer_info\n",
                ")"
            ]
        },
        {
            "cell_type": "markdown",
            "id": "6a26af42",
            "metadata": {},
            "source": [
                "## Estimate the output set error"
            ]
        },
        {
            "cell_type": "code",
            "execution_count": 11,
            "id": "383cee72",
            "metadata": {},
            "outputs": [
                {
                    "name": "stdout",
                    "output_type": "stream",
                    "text": [
                        "Final step approximation error: 19.02\n",
                        "Average approximation error: 4.54\n",
                        "All errors: [ 0.24167679  0.38787424  0.65314041  2.40027115 19.01889623]\n"
                    ]
                }
            ],
            "source": [
                "final_error, avg_error, errors = analyzer.get_error(input_constraint, output_constraint, t_max=t_max)\n",
                "print('Final step approximation error: {:.2f}'.format(final_error))\n",
                "print('Average approximation error: {:.2f}'.format(avg_error))\n",
                "print('All errors: {}'.format(errors))"
            ]
        },
        {
            "cell_type": "code",
            "execution_count": null,
            "id": "92efd491",
            "metadata": {},
            "outputs": [],
            "source": []
        }
    ],
    "metadata": {
        "kernelspec": {
            "display_name": "robustness_analysis_venv",
            "language": "python",
            "name": "robustness_analysis_venv"
        },
        "language_info": {
            "codemirror_mode": {
                "name": "ipython",
                "version": 3
            },
            "file_extension": ".py",
            "mimetype": "text/x-python",
            "name": "python",
            "nbconvert_exporter": "python",
            "pygments_lexer": "ipython3",
            "version": "3.6.9"
        }
    },
    "nbformat": 4,
    "nbformat_minor": 5
}