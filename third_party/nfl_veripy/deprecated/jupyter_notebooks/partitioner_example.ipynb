{
 "cells": [
  {
   "cell_type": "markdown",
   "id": "669afa36",
   "metadata": {},
   "source": [
    "# Example of analyzing a NN in isolation"
   ]
  },
  {
   "cell_type": "markdown",
   "id": "944be816",
   "metadata": {},
   "source": [
    "## Load libraries and set random seed"
   ]
  },
  {
   "cell_type": "code",
   "execution_count": null,
   "id": "e22b8a7e",
   "metadata": {},
   "outputs": [],
   "source": [
    "import numpy as np\n",
    "import nn_partition.analyzers as analyzers\n",
    "import sys\n",
    "sys.path.append(\"../\")\n",
    "from nn_partition.models.models import model_xiang_2020_robot_arm as robot_arm"
   ]
  },
  {
   "cell_type": "code",
   "execution_count": null,
   "id": "5f57939d",
   "metadata": {},
   "outputs": [],
   "source": [
    "np.random.seed(seed=0)"
   ]
  },
  {
   "cell_type": "markdown",
   "id": "4a7e0840",
   "metadata": {},
   "source": [
    "## Load NN controller"
   ]
  },
  {
   "cell_type": "code",
   "execution_count": null,
   "id": "34b1b74d",
   "metadata": {},
   "outputs": [],
   "source": [
    "activation = \"tanh\" # \"relu\" \"sigmoid\"\n",
    "torch_model, model_info = robot_arm(\n",
    "    activation=activation\n",
    ")\n",
    "print(torch_model)"
   ]
  },
  {
   "cell_type": "markdown",
   "id": "5544f4d7",
   "metadata": {},
   "source": [
    "## Define NN input set"
   ]
  },
  {
   "cell_type": "code",
   "execution_count": null,
   "id": "38663203",
   "metadata": {},
   "outputs": [],
   "source": [
    "input_range = np.array(\n",
    "    [  # (num_inputs, 2)\n",
    "        [np.pi / 3, 2 * np.pi / 3],  # x0min, x0max\n",
    "        [np.pi / 3, 2 * np.pi / 3],  # x1min, x1max\n",
    "    ]\n",
    ")"
   ]
  },
  {
   "cell_type": "markdown",
   "id": "c0cd1ed0",
   "metadata": {},
   "source": [
    "## Define partitioner hyperparameters"
   ]
  },
  {
   "cell_type": "code",
   "execution_count": null,
   "id": "f39e9e43",
   "metadata": {},
   "outputs": [],
   "source": [
    "partitioner_hyperparams = {\n",
    "    \"num_simulations\": 1e5,\n",
    "    \"type\": \"GreedySimGuided\",\n",
    "    \"termination_condition_type\": \"time_budget\",\n",
    "    \"termination_condition_value\": 2, # seconds\n",
    "    \"interior_condition\": \"convex_hull\",\n",
    "    \"make_animation\": False,\n",
    "    \"show_animation\": False,\n",
    "    \"show_input\": True,\n",
    "    \"show_output\": True,\n",
    "}"
   ]
  },
  {
   "cell_type": "markdown",
   "id": "c1683808",
   "metadata": {},
   "source": [
    "## Define propagator hyperparameters"
   ]
  },
  {
   "cell_type": "code",
   "execution_count": null,
   "id": "7abfc169",
   "metadata": {},
   "outputs": [],
   "source": [
    "propagator_hyperparams = {\n",
    "    \"type\": \"CROWN_LIRPA\",\n",
    "    \"input_shape\": input_range.shape[:-1],\n",
    "}"
   ]
  },
  {
   "cell_type": "markdown",
   "id": "faaa5ec5",
   "metadata": {},
   "source": [
    "## Initialize analyzer, partitioner, propagator"
   ]
  },
  {
   "cell_type": "code",
   "execution_count": null,
   "id": "dd51b84f",
   "metadata": {},
   "outputs": [],
   "source": [
    "analyzer = analyzers.Analyzer(torch_model)\n",
    "analyzer.partitioner = partitioner_hyperparams\n",
    "analyzer.propagator = propagator_hyperparams\n",
    "print(analyzer)"
   ]
  },
  {
   "cell_type": "markdown",
   "id": "1d118239",
   "metadata": {},
   "source": [
    "## Compute the output set"
   ]
  },
  {
   "cell_type": "code",
   "execution_count": null,
   "id": "eeeee941",
   "metadata": {},
   "outputs": [],
   "source": [
    "output_range, analyzer_info = analyzer.get_output_range(input_range)\n",
    "print(output_range)\n",
    "# analyzer_info contains more details, including the convex hull of the partitioned output, if applicable"
   ]
  },
  {
   "cell_type": "markdown",
   "id": "e74a26b8",
   "metadata": {},
   "source": [
    "## Generate a visualization of the input/output mapping"
   ]
  },
  {
   "cell_type": "code",
   "execution_count": null,
   "id": "52102b6a",
   "metadata": {},
   "outputs": [],
   "source": [
    "labels = {\"input\": [None, None], \"output\": [None, None]}\n",
    "aspects = {\"input\": \"auto\", \"output\": \"auto\"}\n",
    "\n",
    "analyzer.visualize(\n",
    "    input_range,\n",
    "    output_range,\n",
    "    show=True,\n",
    "    show_samples=True,\n",
    "    show_legend=False,\n",
    "    show_input=True,\n",
    "    show_output=True,\n",
    "    title=None,\n",
    "    labels=labels,\n",
    "    aspects=aspects,\n",
    "    **analyzer_info\n",
    ")"
   ]
  },
  {
   "cell_type": "markdown",
   "id": "fc86578d",
   "metadata": {},
   "source": [
    "## Estimate the output set error"
   ]
  },
  {
   "cell_type": "code",
   "execution_count": null,
   "id": "d8d1ad44",
   "metadata": {},
   "outputs": [],
   "source": [
    "error = analyzer.get_error(input_range, output_range, **analyzer_info)\n",
    "print(\"Error: {:.4f}\".format(error))"
   ]
  },
  {
   "cell_type": "code",
   "execution_count": null,
   "id": "aa824422",
   "metadata": {},
   "outputs": [],
   "source": []
  }
 ],
 "metadata": {
  "kernelspec": {
   "display_name": "robustness_analysis_venv",
   "language": "python",
   "name": "robustness_analysis_venv"
  },
  "language_info": {
   "codemirror_mode": {
    "name": "ipython",
    "version": 3
   },
   "file_extension": ".py",
   "mimetype": "text/x-python",
   "name": "python",
   "nbconvert_exporter": "python",
   "pygments_lexer": "ipython3",
   "version": "3.6.9"
  }
 },
 "nbformat": 4,
 "nbformat_minor": 5
}
